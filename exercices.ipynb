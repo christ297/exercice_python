{
 "cells": [
  {
   "cell_type": "markdown",
   "metadata": {},
   "source": [
    "## Exercice1"
   ]
  },
  {
   "cell_type": "code",
   "execution_count": 6,
   "metadata": {},
   "outputs": [
    {
     "data": {
      "text/plain": [
       "9"
      ]
     },
     "execution_count": 6,
     "metadata": {},
     "output_type": "execute_result"
    }
   ],
   "source": [
    "def addition(a,b):\n",
    "  return a+b\n",
    "\n",
    "addition(4,5)\n"
   ]
  },
  {
   "cell_type": "markdown",
   "metadata": {},
   "source": [
    "## Exercice2"
   ]
  },
  {
   "cell_type": "code",
   "execution_count": 7,
   "metadata": {},
   "outputs": [
    {
     "data": {
      "text/plain": [
       "8"
      ]
     },
     "execution_count": 7,
     "metadata": {},
     "output_type": "execute_result"
    }
   ],
   "source": [
    "def multiplier(a,b=2):\n",
    "    return a*b\n",
    "\n",
    "multiplier(4)"
   ]
  },
  {
   "cell_type": "markdown",
   "metadata": {},
   "source": [
    "## Exercice3"
   ]
  },
  {
   "cell_type": "code",
   "execution_count": 8,
   "metadata": {},
   "outputs": [
    {
     "data": {
      "text/plain": [
       "4"
      ]
     },
     "execution_count": 8,
     "metadata": {},
     "output_type": "execute_result"
    }
   ],
   "source": [
    "carre=lambda x:x**2\n",
    "\n",
    "carre(2)"
   ]
  },
  {
   "cell_type": "markdown",
   "metadata": {},
   "source": [
    "## Exercice4"
   ]
  },
  {
   "cell_type": "code",
   "execution_count": 9,
   "metadata": {},
   "outputs": [
    {
     "data": {
      "text/plain": [
       "\" n : c'est le nombre dont on veut calculer le factoriel \\n        cette fonction permet donc de calculer le factoriel d'un nombre passé \\n        en paramètre\\n    \\n    \""
      ]
     },
     "execution_count": 9,
     "metadata": {},
     "output_type": "execute_result"
    }
   ],
   "source": [
    "def factoriel(n):\n",
    "\n",
    "    \"\"\" n : c'est le nombre dont on veut calculer le factoriel \n",
    "        cette fonction permet donc de calculer le factoriel d'un nombre passé \n",
    "        en paramètre\n",
    "    \n",
    "    \"\"\"\n",
    "    i=n\n",
    "    while i>1:\n",
    "        i-=1\n",
    "        n=n*i\n",
    "    return n\n",
    "        \n",
    "\n",
    "factoriel(5)\n",
    "\n",
    "factoriel.__doc__"
   ]
  },
  {
   "cell_type": "markdown",
   "metadata": {},
   "source": [
    "## Exercice7"
   ]
  },
  {
   "cell_type": "code",
   "execution_count": 10,
   "metadata": {},
   "outputs": [
    {
     "data": {
      "text/plain": [
       "15"
      ]
     },
     "execution_count": 10,
     "metadata": {},
     "output_type": "execute_result"
    }
   ],
   "source": [
    "def somme(n):\n",
    "    if n==1:\n",
    "        return 1\n",
    "    else:\n",
    "        \n",
    "        return n+somme(n-1)\n",
    "\n",
    "somme(5)"
   ]
  },
  {
   "cell_type": "markdown",
   "metadata": {},
   "source": [
    "## Exercice8"
   ]
  },
  {
   "cell_type": "code",
   "execution_count": 11,
   "metadata": {},
   "outputs": [
    {
     "data": {
      "text/plain": [
       "1"
      ]
     },
     "execution_count": 11,
     "metadata": {},
     "output_type": "execute_result"
    }
   ],
   "source": [
    "compteur =0\n",
    "\n",
    "def incrementer():\n",
    "    global compteur\n",
    "\n",
    "    return  compteur +1\n",
    "\n",
    "incrementer()"
   ]
  },
  {
   "cell_type": "markdown",
   "metadata": {},
   "source": [
    "## Exercice9"
   ]
  },
  {
   "cell_type": "code",
   "execution_count": 12,
   "metadata": {},
   "outputs": [
    {
     "data": {
      "text/plain": [
       "[(4, 0), (1, 2)]"
      ]
     },
     "execution_count": 12,
     "metadata": {},
     "output_type": "execute_result"
    }
   ],
   "source": [
    "def trie_tuple(l=[]):\n",
    "\n",
    "    return sorted(l,key=lambda x:x[1])\n",
    "\n",
    "trie_tuple([(1,2),(4,0)])"
   ]
  },
  {
   "cell_type": "markdown",
   "metadata": {},
   "source": [
    "## Exercice10"
   ]
  },
  {
   "cell_type": "code",
   "execution_count": 13,
   "metadata": {},
   "outputs": [
    {
     "data": {
      "text/plain": [
       "25"
      ]
     },
     "execution_count": 13,
     "metadata": {},
     "output_type": "execute_result"
    }
   ],
   "source": [
    "\n",
    "def creer_multiplicateur(n):\n",
    "    def fonction_multiplier(x):\n",
    "        return x*n\n",
    "    return fonction_multiplier\n",
    "\n",
    "creer_multiplicateur(5)(5)\n"
   ]
  },
  {
   "cell_type": "markdown",
   "metadata": {},
   "source": [
    "## Exercice11"
   ]
  },
  {
   "cell_type": "code",
   "execution_count": 14,
   "metadata": {},
   "outputs": [
    {
     "name": "stdout",
     "output_type": "stream",
     "text": [
      "[1, 25, 255, 2, 3]\n"
     ]
    }
   ],
   "source": [
    "nombre=[1,25,255,2,3,6,7,8,9,9]\n",
    "print(nombre[:5])"
   ]
  },
  {
   "cell_type": "markdown",
   "metadata": {},
   "source": [
    "## Exercice12"
   ]
  },
  {
   "cell_type": "code",
   "execution_count": 15,
   "metadata": {},
   "outputs": [
    {
     "name": "stdout",
     "output_type": "stream",
     "text": [
      "['pomme', 'cerise', 'orange', 'pastèque', 'ananas']\n",
      "['pomme', 'cerise', 'orange', 'pastèque', 'ananas', 'cerise']\n",
      "['pomme', 'orange', 'pastèque', 'ananas', 'cerise']\n",
      "['ananas', 'cerise', 'orange', 'pastèque', 'pomme']\n"
     ]
    }
   ],
   "source": [
    "fruits=['pomme','cerise','orange','pastèque','ananas']\n",
    "print(fruits)\n",
    "fruits.append('cerise')\n",
    "print(fruits)\n",
    "fruits.remove('cerise')\n",
    "print(fruits)\n",
    "fruits=sorted(fruits)\n",
    "print(fruits)\n",
    "\n"
   ]
  },
  {
   "cell_type": "markdown",
   "metadata": {},
   "source": [
    "## Exercice13"
   ]
  },
  {
   "cell_type": "code",
   "execution_count": 16,
   "metadata": {},
   "outputs": [
    {
     "data": {
      "text/plain": [
       "[1, 4, 9, 16, 25, 36, 49, 64, 81, 100]"
      ]
     },
     "execution_count": 16,
     "metadata": {},
     "output_type": "execute_result"
    }
   ],
   "source": [
    "[x**2 for x in range(1,11)]"
   ]
  },
  {
   "cell_type": "markdown",
   "metadata": {},
   "source": [
    "## Exercice14"
   ]
  },
  {
   "cell_type": "code",
   "execution_count": 17,
   "metadata": {},
   "outputs": [
    {
     "name": "stdout",
     "output_type": "stream",
     "text": [
      "(8, 10, 12, 18, 16, 14, 2, 4, 6, 14)\n"
     ]
    }
   ],
   "source": [
    "tuples=(4,5,6,9,8,7,1,2,3,7)\n",
    "t1=tuple(i*2 for i in tuples )\n",
    "print(t1)\n",
    "\n",
    "\n",
    "\n"
   ]
  },
  {
   "cell_type": "markdown",
   "metadata": {},
   "source": [
    "## Exercice15"
   ]
  },
  {
   "cell_type": "code",
   "execution_count": 18,
   "metadata": {},
   "outputs": [
    {
     "name": "stdout",
     "output_type": "stream",
     "text": [
      "nom : sira\n",
      "age : 18\n",
      "filiere : sociologie\n"
     ]
    }
   ],
   "source": [
    "student={\"nom\":\"sira\",\"age\":18,\"filiere\":\"sociologie\"}\n",
    "\n",
    "for key,value in student.items():\n",
    "    print(f\"{key} : {value}\")"
   ]
  },
  {
   "cell_type": "markdown",
   "metadata": {},
   "source": [
    "## Exercice16"
   ]
  },
  {
   "cell_type": "code",
   "execution_count": 19,
   "metadata": {},
   "outputs": [
    {
     "name": "stdout",
     "output_type": "stream",
     "text": [
      "gagner\n"
     ]
    }
   ],
   "source": [
    "dictionary={\"allouer\":5,\"avouer\":2,\"courir\":4,\"abattre\":10,\"gagner\":25}\n",
    "\n",
    "value=max([i for i in dictionary.values()])\n",
    "for i in dictionary.keys():\n",
    "    if dictionary[i]==value:\n",
    "        print(i)"
   ]
  },
  {
   "cell_type": "markdown",
   "metadata": {},
   "source": [
    "## Exercice17"
   ]
  },
  {
   "cell_type": "code",
   "execution_count": 20,
   "metadata": {},
   "outputs": [
    {
     "name": "stdout",
     "output_type": "stream",
     "text": [
      "[1, 2, 3, 4, 5, 7]\n"
     ]
    }
   ],
   "source": [
    "number= [1,1,1,1,1,2,3,4,5,5,5,7,7]\n",
    "number=list(set(number))\n",
    "print(number)\n"
   ]
  },
  {
   "cell_type": "markdown",
   "metadata": {},
   "source": [
    "## Exercice18"
   ]
  },
  {
   "cell_type": "code",
   "execution_count": 21,
   "metadata": {},
   "outputs": [
    {
     "name": "stdout",
     "output_type": "stream",
     "text": [
      "union : {1, 2, 3, 5, 6, 7}\n",
      "difference : {3}\n",
      "intersection : {1, 2}\n"
     ]
    }
   ],
   "source": [
    "a={1,2,3}\n",
    "b={1,2,5,6,7}\n",
    "union=a.union(b)\n",
    "print(\"union :\",union)\n",
    "difference=a.difference(b)\n",
    "print(\"difference :\",difference)\n",
    "intersection=a.intersection(b)\n",
    "print(\"intersection :\",intersection)"
   ]
  },
  {
   "cell_type": "markdown",
   "metadata": {},
   "source": [
    "## Exercice19"
   ]
  },
  {
   "cell_type": "code",
   "execution_count": 20,
   "metadata": {},
   "outputs": [
    {
     "data": {
      "text/plain": [
       "[6, 5, 4, 3, 2, 1]"
      ]
     },
     "execution_count": 20,
     "metadata": {},
     "output_type": "execute_result"
    }
   ],
   "source": [
    "def inverse_list(l=[]):\n",
    "    inv=[]\n",
    "    for i in range(len(l),0,-1):\n",
    "        inv.append(i)\n",
    "    return inv\n",
    "\n",
    "inverse_list([1,2,3,4,5,6])"
   ]
  },
  {
   "cell_type": "markdown",
   "metadata": {},
   "source": [
    "## Exercice20"
   ]
  },
  {
   "cell_type": "code",
   "execution_count": 17,
   "metadata": {},
   "outputs": [
    {
     "name": "stdout",
     "output_type": "stream",
     "text": [
      "{'id': 1, 'nom': 'tata', 'age': 4}\n"
     ]
    }
   ],
   "source": [
    "values_list=[1,\"tata\",4]\n",
    "keys_list=[\"id\",\"nom\",\"age\"]\n",
    "person={}\n",
    "for  i in range(len(values_list)):\n",
    "    \n",
    "    person[keys_list[i]]=values_list[i]\n",
    "    \n",
    "print(person)\n",
    "\n"
   ]
  }
 ],
 "metadata": {
  "kernelspec": {
   "display_name": "Python 3",
   "language": "python",
   "name": "python3"
  },
  "language_info": {
   "codemirror_mode": {
    "name": "ipython",
    "version": 3
   },
   "file_extension": ".py",
   "mimetype": "text/x-python",
   "name": "python",
   "nbconvert_exporter": "python",
   "pygments_lexer": "ipython3",
   "version": "3.10.12"
  }
 },
 "nbformat": 4,
 "nbformat_minor": 2
}
